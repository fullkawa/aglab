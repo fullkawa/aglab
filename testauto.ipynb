{
 "cells": [
  {
   "cell_type": "markdown",
   "metadata": {
    "collapsed": false
   },
   "source": [
    "# aglab\n",
    "## 自動テストプレイ\n",
    "\n",
    "ゲーム定義ファイルで定義されたゲームの自動テストプレイを行います。\n",
    "\n",
    "* このまま実行した場合、使用されるゲーム定義ファイルは\"definition/mygame.py\"です。  \n",
    "新たに作成したゲーム定義ファイルをテストしたい場合は下記セル中の\"mygame\"をすべて書きかえてください。"
   ]
  },
  {
   "cell_type": "code",
   "execution_count": 1,
   "metadata": {
    "collapsed": false,
    "scrolled": true
   },
   "outputs": [],
   "source": [
    "from definition import janken #mygame #テストしたいゲーム定義ファイルのファイル名\n",
    "from src import aglab, controller"
   ]
  },
  {
   "cell_type": "code",
   "execution_count": 2,
   "metadata": {
    "collapsed": false,
    "scrolled": true
   },
   "outputs": [
    {
     "name": "stdout",
     "output_type": "stream",
     "text": [
      "PROCESS:module.common.set_turn_order \n",
      "PROCESS:definition.janken.init_hand \n"
     ]
    }
   ],
   "source": [
    "game = aglab.Game(janken, controller=controller.Randomizer) #Game(mygame, controller=controller.Randomizer)\n",
    "game.setup() #プレイ前の準備"
   ]
  },
  {
   "cell_type": "code",
   "execution_count": 3,
   "metadata": {
    "collapsed": false
   },
   "outputs": [
    {
     "name": "stdout",
     "output_type": "stream",
     "text": [
      "[じゃんけんカードゲーム]\n",
      "- Player:1 in 2 players\n"
     ]
    }
   ],
   "source": [
    "print game.get_info() #今回のプレイに関する情報を出力する"
   ]
  },
  {
   "cell_type": "code",
   "execution_count": 4,
   "metadata": {
    "collapsed": false,
    "scrolled": false
   },
   "outputs": [
    {
     "name": "stdout",
     "output_type": "stream",
     "text": [
      "STEP: 1 --------------------------------\n",
      "PROCESS:module.common.turn_start \n",
      "\n",
      "STEP: 2 --------------------------------\n",
      "Reward:[0.0, 0.0] , path: //turn:1/phase:1?turn=1&next=2\n",
      "P1.h: ['p', 'p', 't', 't', 'g', 'g']\n",
      "P1.p: [' ', ' ', ' ', ' ', ' ', ' ']\n",
      "P2.h: ['p', 'p', 't', 't', 'g', 'g']\n",
      "P2.p: [' ', ' ', ' ', ' ', ' ', ' ']\n",
      "P3.h: [' ', ' ', ' ', ' ', ' ', ' ']\n",
      "P3.p: [' ', ' ', ' ', ' ', ' ', ' ']\n",
      "P4.h: [' ', ' ', ' ', ' ', ' ', ' ']\n",
      "P4.p: [' ', ' ', ' ', ' ', ' ', ' ']\n",
      "[score] player-1:0, player-2:0, player-3:0, player-4:0,\n",
      "\n",
      "TODO:Observation.to_array()\n",
      "PROCESS:definition.janken.set_card [{'ckey': 'G'}, 'P{turn_player}.p']\n",
      "\n",
      "STEP: 3 --------------------------------\n",
      "Reward:[0.0, 0.0] , path: //turn:1/phase:2?turn=1&next=2\n",
      "P1.h: ['p', 'p', 't', 't', ' ', 'g']\n",
      "P1.p: ['g', ' ', ' ', ' ', ' ', ' ']\n",
      "P2.h: ['p', 'p', 't', 't', 'g', 'g']\n",
      "P2.p: [' ', ' ', ' ', ' ', ' ', ' ']\n",
      "P3.h: [' ', ' ', ' ', ' ', ' ', ' ']\n",
      "P3.p: [' ', ' ', ' ', ' ', ' ', ' ']\n",
      "P4.h: [' ', ' ', ' ', ' ', ' ', ' ']\n",
      "P4.p: [' ', ' ', ' ', ' ', ' ', ' ']\n",
      "[score] player-1:0, player-2:0, player-3:0, player-4:0,\n",
      "\n",
      "TODO:Observation.to_array()\n",
      "PROCESS:definition.janken.set_card [{'ckey': 'G'}, 'P{next_player}.p']\n",
      "\n",
      "STEP: 4 --------------------------------\n",
      "PROCESS:definition.janken.judge \n",
      "turn-player: G  vs next-player: G\n",
      " -> draw\n",
      "\n",
      "STEP: 5 --------------------------------\n",
      "PROCESS:module.common.turn_end ['$turn-player']\n",
      "\n",
      "STEP: 6 --------------------------------\n",
      "PROCESS:module.common.turn_start \n",
      "\n",
      "STEP: 7 --------------------------------\n",
      "Reward:[0.0, 0.02] , path: //turn:2/phase:1?turn=2&prev=1&next=1\n",
      "P1.h: ['p', 'p', 't', 't', ' ', 'g']\n",
      "P1.p: ['G', ' ', ' ', ' ', ' ', ' ']\n",
      "P2.h: ['p', 'p', 't', 't', ' ', 'g']\n",
      "P2.p: ['G', ' ', ' ', ' ', ' ', ' ']\n",
      "P3.h: [' ', ' ', ' ', ' ', ' ', ' ']\n",
      "P3.p: [' ', ' ', ' ', ' ', ' ', ' ']\n",
      "P4.h: [' ', ' ', ' ', ' ', ' ', ' ']\n",
      "P4.p: [' ', ' ', ' ', ' ', ' ', ' ']\n",
      "[score] player-1:1, player-2:1, player-3:0, player-4:0,\n",
      "\n",
      "TODO:Observation.to_array()\n",
      "PROCESS:definition.janken.set_card [{'ckey': 'G'}, 'P{turn_player}.p']\n",
      "\n",
      "STEP: 8 --------------------------------\n",
      "Reward:[0.0, 0.02] , path: //turn:2/phase:2?turn=2&prev=1&next=1\n",
      "P1.h: ['p', 'p', 't', 't', ' ', 'g']\n",
      "P1.p: ['G', ' ', ' ', ' ', ' ', ' ']\n",
      "P2.h: ['p', 'p', 't', 't', ' ', ' ']\n",
      "P2.p: ['G', 'g', ' ', ' ', ' ', ' ']\n",
      "P3.h: [' ', ' ', ' ', ' ', ' ', ' ']\n",
      "P3.p: [' ', ' ', ' ', ' ', ' ', ' ']\n",
      "P4.h: [' ', ' ', ' ', ' ', ' ', ' ']\n",
      "P4.p: [' ', ' ', ' ', ' ', ' ', ' ']\n",
      "[score] player-1:1, player-2:1, player-3:0, player-4:0,\n",
      "\n",
      "TODO:Observation.to_array()\n",
      "PROCESS:definition.janken.set_card [{'ckey': 'G'}, 'P{next_player}.p']\n",
      "\n",
      "STEP: 9 --------------------------------\n",
      "PROCESS:definition.janken.judge \n",
      "turn-player: G  vs next-player: G\n",
      " -> draw\n",
      "\n",
      "STEP: 10 --------------------------------\n",
      "PROCESS:module.common.turn_end ['$turn-player']\n",
      "\n",
      "STEP: 11 --------------------------------\n",
      "PROCESS:module.common.turn_start \n",
      "\n",
      "STEP: 12 --------------------------------\n",
      "Reward:[0.0, 0.04] , path: //turn:3/phase:1?turn=1&prev=2&next=2\n",
      "P1.h: ['p', 'p', 't', 't', ' ', ' ']\n",
      "P1.p: ['G', 'G', ' ', ' ', ' ', ' ']\n",
      "P2.h: ['p', 'p', 't', 't', ' ', ' ']\n",
      "P2.p: ['G', 'G', ' ', ' ', ' ', ' ']\n",
      "P3.h: [' ', ' ', ' ', ' ', ' ', ' ']\n",
      "P3.p: [' ', ' ', ' ', ' ', ' ', ' ']\n",
      "P4.h: [' ', ' ', ' ', ' ', ' ', ' ']\n",
      "P4.p: [' ', ' ', ' ', ' ', ' ', ' ']\n",
      "[score] player-1:2, player-2:2, player-3:0, player-4:0,\n",
      "\n",
      "TODO:Observation.to_array()\n",
      "PROCESS:definition.janken.set_card [{'ckey': 'G'}, 'P{turn_player}.p']\n",
      "無効なアクションを実行しようとしました。; \"G\"のカードは手札にないため出せません。\n",
      "\n",
      "========================================\n",
      "[Result]\n",
      " step:12\n",
      "\n",
      "P1.h: ['p', 'p', 't', 't', ' ', ' ']\n",
      "P1.p: ['G', 'G', ' ', ' ', ' ', ' ']\n",
      "P2.h: ['p', 'p', 't', 't', ' ', ' ']\n",
      "P2.p: ['G', 'G', ' ', ' ', ' ', ' ']\n",
      "P3.h: [' ', ' ', ' ', ' ', ' ', ' ']\n",
      "P3.p: [' ', ' ', ' ', ' ', ' ', ' ']\n",
      "P4.h: [' ', ' ', ' ', ' ', ' ', ' ']\n",
      "P4.p: [' ', ' ', ' ', ' ', ' ', ' ']\n",
      "[score] player-1:2, player-2:2, player-3:0, player-4:0,\n",
      "\n"
     ]
    }
   ],
   "source": [
    "for i in range(game.max_steps):\n",
    "    game.step() #ゲームを1ステップ進行する\n",
    "    if game.act is not None:        \n",
    "        print game.reward, ', path:', game.get_contextpath()\n",
    "        print game.output_state() #ゲームの状況を出力する\n",
    "        observation = game.get_observation(observer=game.player)\n",
    "        action = game.act.action(observation)\n",
    "        game.perform_action(action)\n",
    "    print\n",
    "    if game.done:\n",
    "        print game.get_result()\n",
    "        print game.output_state()\n",
    "        break #ゲーム終了"
   ]
  },
  {
   "cell_type": "code",
   "execution_count": 5,
   "metadata": {
    "collapsed": false,
    "scrolled": false
   },
   "outputs": [
    {
     "name": "stdout",
     "output_type": "stream",
     "text": [
      "Reward:[0.0, -0.96]\n"
     ]
    }
   ],
   "source": [
    "# ゲーム終了時の状態\n",
    "print game.reward\n",
    "#print game.state"
   ]
  },
  {
   "cell_type": "code",
   "execution_count": null,
   "metadata": {
    "collapsed": true
   },
   "outputs": [],
   "source": []
  }
 ],
 "metadata": {
  "kernelspec": {
   "display_name": "Python 2",
   "language": "python",
   "name": "python2"
  },
  "language_info": {
   "codemirror_mode": {
    "name": "ipython",
    "version": 2
   },
   "file_extension": ".py",
   "mimetype": "text/x-python",
   "name": "python",
   "nbconvert_exporter": "python",
   "pygments_lexer": "ipython2",
   "version": "2.7.11"
  }
 },
 "nbformat": 4,
 "nbformat_minor": 0
}
