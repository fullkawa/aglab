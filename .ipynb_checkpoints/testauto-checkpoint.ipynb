{
 "cells": [
  {
   "cell_type": "markdown",
   "metadata": {
    "collapsed": false
   },
   "source": [
    "# aglab\n",
    "## 自動テストプレイ\n",
    "\n",
    "ゲーム定義ファイルで定義されたゲームの自動テストプレイを行います。\n",
    "\n",
    "* このまま実行した場合、使用されるゲーム定義ファイルは\"definition/mygame.py\"です。  \n",
    "新たに作成したゲーム定義ファイルをテストしたい場合は下記セル中の\"mygame\"をすべて書きかえてください。"
   ]
  },
  {
   "cell_type": "code",
   "execution_count": null,
   "metadata": {
    "collapsed": false,
    "scrolled": true
   },
   "outputs": [],
   "source": [
    "from definition import janken #mygame #テストしたいゲーム定義ファイルのファイル名\n",
    "from src import aglab, controller"
   ]
  },
  {
   "cell_type": "code",
   "execution_count": null,
   "metadata": {
    "collapsed": false,
    "scrolled": true
   },
   "outputs": [],
   "source": [
    "game = aglab.Game(janken, controller=controller.Randomizer) #Game(mygame)\n",
    "game.setup() #プレイ前の準備"
   ]
  },
  {
   "cell_type": "code",
   "execution_count": null,
   "metadata": {
    "collapsed": false
   },
   "outputs": [],
   "source": [
    "print game.get_info() #今回のプレイに関する情報を出力する"
   ]
  },
  {
   "cell_type": "code",
   "execution_count": null,
   "metadata": {
    "collapsed": false,
    "scrolled": true
   },
   "outputs": [],
   "source": [
    "for i in range(game.max_steps):\n",
    "    game.step() #ゲームを1ステップ進行する\n",
    "    if game.act is not None:        \n",
    "        print 'reward:', game.reward, ', path:', game.get_contextpath()\n",
    "        print game.output_state() #ゲームの状況を出力する\n",
    "        observation = game.get_observation(observer=game.player)\n",
    "        action = game.act.action(observation)\n",
    "        game.perform_action(action)\n",
    "    print\n",
    "    if game.done:\n",
    "        print game.get_result()\n",
    "        break #ゲーム終了"
   ]
  },
  {
   "cell_type": "code",
   "execution_count": null,
   "metadata": {
    "collapsed": false
   },
   "outputs": [],
   "source": [
    "# ゲーム終了時の状態\n",
    "print game.state"
   ]
  },
  {
   "cell_type": "code",
   "execution_count": null,
   "metadata": {
    "collapsed": true
   },
   "outputs": [],
   "source": []
  }
 ],
 "metadata": {
  "kernelspec": {
   "display_name": "Python 2",
   "language": "python",
   "name": "python2"
  },
  "language_info": {
   "codemirror_mode": {
    "name": "ipython",
    "version": 2
   },
   "file_extension": ".py",
   "mimetype": "text/x-python",
   "name": "python",
   "nbconvert_exporter": "python",
   "pygments_lexer": "ipython2",
   "version": "2.7.11"
  }
 },
 "nbformat": 4,
 "nbformat_minor": 0
}
