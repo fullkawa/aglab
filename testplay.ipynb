{
 "cells": [
  {
   "cell_type": "markdown",
   "metadata": {
    "collapsed": false
   },
   "source": [
    "# aglab\n",
    "## テストプレイノート\n",
    "\n",
    "ゲーム定義ファイルで定義されたゲームのテストプレイを行います。\n",
    "\n",
    "* このまま実行した場合、使用されるゲーム定義ファイルは\"definition/mygame.py\"です。  \n",
    "新たに作成したゲーム定義ファイルをテストしたい場合は下記セル中の\"mygame\"をすべて書きかえてください。"
   ]
  },
  {
   "cell_type": "code",
   "execution_count": null,
   "metadata": {
    "collapsed": false,
    "scrolled": true
   },
   "outputs": [],
   "source": [
    "from definition import janken #mygame #テストしたいゲーム定義ファイルのファイル名\n",
    "from src import aglab"
   ]
  },
  {
   "cell_type": "code",
   "execution_count": null,
   "metadata": {
    "collapsed": false,
    "scrolled": true
   },
   "outputs": [],
   "source": [
    "game = aglab.Game(janken) #Game(mygame)\n",
    "game.setup() #プレイ前の準備"
   ]
  },
  {
   "cell_type": "code",
   "execution_count": null,
   "metadata": {
    "collapsed": false
   },
   "outputs": [],
   "source": [
    "print game.get_info() #今回のプレイに関する情報を出力する"
   ]
  },
  {
   "cell_type": "markdown",
   "metadata": {},
   "source": [
    "### How to play\n",
    "\n",
    "* \"?\"が表示されたらコマンドを入力する。コマンドの形式は以下の通り。  \n",
    "`[コマンド] [引数1] [引数2] ...`  \n",
    "※引数の数はコマンドによって異なる\n",
    "* ゲーム定義ファイルの on_play に定義されたコマンドが利用可能。\n",
    "* 以下のコマンドは定義されていなくても利用可能。\n",
    " * `set [コンポーネント: component] [設置先: field]`  \n",
    " コンポーネントを[設置先]にセットします。\n",
    " * `move [移動元: field] [移動先: field]`  \n",
    " コンポーネントを[移動元]から[移動先]へ移動します。  \n",
    " `[移動元: field] > [移動先: field]` という省略形も可。\n",
    " * `end`  \n",
    " ゲームを終了します。\n",
    "* コンポーネントの指定方法\n",
    " * 同一コンポーネントが他にない場合: コンポーネント定義におけるキーで指定する。例) C1\n",
    " * 同一コンポーネントが複数ある場合: キーとインデックスで指定する。例) C2[0]  \n",
    "  インデックスは0から始まるので、`'num': 3`と定義されたコンポーネントの場合、0, 1, 2が指定可能。\n",
    "* フィールドの指定方法\n",
    " * フィールドサイズが1の場合: フィールド定義におけるキー、または短縮表記(shorten)で指定する。例) field-1 or F1\n",
    " * フィールドサイズが1より大きい場合: キー/短縮表記とインデックスで指定する。例) F2[0]  \n",
    " インデックスは0から始まるので、`'size':4`と定義されたフィールドの場合、0, 1, 2, 3が指定可能。\n",
    "\n",
    "### プレイ例\n",
    "\n",
    "```\n",
    "? set C1 P1.h[0]\n",
    "? P1.h[0] > F1[0]\n",
    "? end\n",
    "```"
   ]
  },
  {
   "cell_type": "code",
   "execution_count": null,
   "metadata": {
    "collapsed": false,
    "scrolled": true
   },
   "outputs": [],
   "source": [
    "for i in range(game.max_steps):\n",
    "    print 'reward:', game.reward, ', path:', game.get_contextpath()\n",
    "    print game.output_state() #ゲームの状況を出力する\n",
    "    _in = raw_input(game.get_prompt())\n",
    "    game.step(command=_in) #ゲームを1ステップ進行する\n",
    "    print\n",
    "    if game.done:\n",
    "        print game.get_result()\n",
    "        break #ゲーム終了"
   ]
  },
  {
   "cell_type": "code",
   "execution_count": null,
   "metadata": {
    "collapsed": false
   },
   "outputs": [],
   "source": [
    "# ゲーム終了時の状態\n",
    "print game.state"
   ]
  },
  {
   "cell_type": "code",
   "execution_count": null,
   "metadata": {
    "collapsed": true
   },
   "outputs": [],
   "source": []
  }
 ],
 "metadata": {
  "kernelspec": {
   "display_name": "Python 2",
   "language": "python",
   "name": "python2"
  },
  "language_info": {
   "codemirror_mode": {
    "name": "ipython",
    "version": 2
   },
   "file_extension": ".py",
   "mimetype": "text/x-python",
   "name": "python",
   "nbconvert_exporter": "python",
   "pygments_lexer": "ipython2",
   "version": "2.7.11"
  }
 },
 "nbformat": 4,
 "nbformat_minor": 0
}
